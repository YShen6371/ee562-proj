{
 "cells": [
  {
   "cell_type": "code",
   "execution_count": null,
   "metadata": {},
   "outputs": [],
   "source": [
    "import torch\n",
    "import torch.nn as nn\n",
    "import torchvision\n",
    "import torchvision.models as models\n",
    "import tqdm\n",
    "from torch.utils.data import DataLoader\n",
    "import torchvision.transforms as transforms\n",
    "import torch.optim as optim\n",
    "import numpy as np"
   ]
  },
  {
   "cell_type": "code",
   "execution_count": null,
   "metadata": {},
   "outputs": [],
   "source": [
    "class VGGNet(nn.Module):\n",
    "    def __init__(self):\n",
    "        super(VGGNet, self).__init__()\n",
    "\n",
    "        # Take vgg13 untrained skeleton\n",
    "        self.model = models.vgg13(weights=None)\n",
    "        # Since original resnet18 has a 3-channel input, we have to change it to 1-channel for greyscale\n",
    "        self.model.features[0] = nn.Conv2d(1, 64, kernel_size=3, stride=1, padding=1, bias=False)\n",
    "        # Similarly, change final output nodes to 10, according to fashion-mnist's class\n",
    "        self.model.classifier[6] = nn.Linear(4096, 10)\n",
    "    def forward(self, x):\n",
    "        return self.model(x)"
   ]
  },
  {
   "cell_type": "code",
   "execution_count": null,
   "metadata": {},
   "outputs": [],
   "source": [
    "model = VGGNet()\n",
    "\n",
    "if torch.cuda.is_available():\n",
    "    model.cuda()"
   ]
  },
  {
   "cell_type": "code",
   "execution_count": null,
   "metadata": {},
   "outputs": [],
   "source": [
    "model"
   ]
  },
  {
   "cell_type": "code",
   "execution_count": null,
   "metadata": {},
   "outputs": [],
   "source": [
    "# Get data loader Function referenced from hw4, loader.py\n",
    "# Download Fashion MNIST dataset, apply transforms, fit data into dataloader\n",
    "def get_data_loader(train_transformer, valid_transformer, batch_size):\n",
    "    train_loader = DataLoader(torchvision.datasets.FashionMNIST(download=True, root=\".\", transform=train_transformer, train=True),\n",
    "                              batch_size=batch_size, shuffle=True)\n",
    "\n",
    "    val_loader = DataLoader(torchvision.datasets.FashionMNIST(download=False, root=\".\", transform=valid_transformer, train=False),\n",
    "                            batch_size=batch_size, shuffle=False)\n",
    "    return train_loader, val_loader\n"
   ]
  },
  {
   "cell_type": "code",
   "execution_count": null,
   "metadata": {},
   "outputs": [],
   "source": [
    "epochs = 5\n",
    "batch_size = 32\n",
    "\n",
    "data_transform = transforms.Compose([\n",
    "                                     transforms.Resize((224, 224)),\n",
    "                                     transforms.ToTensor(),\n",
    "                                     transforms.RandomHorizontalFlip(0.5),\n",
    "                                     transforms.RandomAffine((-5, 5), shear=(-10, 10)),\n",
    "                                     transforms.Normalize([0.5], [0.5])])\n",
    "train_loader, val_loader = get_data_loader(data_transform, data_transform, batch_size)"
   ]
  },
  {
   "cell_type": "code",
   "execution_count": null,
   "metadata": {},
   "outputs": [],
   "source": [
    "loss_function = nn.CrossEntropyLoss()\n",
    "optimizer = torch.optim.Adam(model.parameters(), lr=3e-4)\n",
    "train_losses = []\n",
    "valid_losses = []\n",
    "train_accs = []\n",
    "valid_accs = []"
   ]
  },
  {
   "cell_type": "code",
   "execution_count": null,
   "metadata": {},
   "outputs": [],
   "source": [
    "# Run function referenced from hw4, helper.py\n",
    "# Perform forward propagation\n",
    "# If mode is training, also perform backward propagation and optimize parameters\n",
    "def run(mode, dataloader, model, optimizer=None, use_cuda = torch.cuda.is_available()):\n",
    "    \"\"\"\n",
    "    mode: either \"train\" or \"valid\". If the mode is train, we will optimize the model\n",
    "    \"\"\"\n",
    "    running_loss = []\n",
    "    criterion = nn.CrossEntropyLoss()\n",
    "\n",
    "    actual_labels = []\n",
    "    predictions = []\n",
    "    for inputs, labels in tqdm.tqdm(dataloader):\n",
    "        if use_cuda:\n",
    "            inputs, labels = inputs.cuda(), labels.cuda()\n",
    "\n",
    "        # forward + backward + optimize\n",
    "        outputs = model(inputs)\n",
    "        loss = criterion(outputs, labels)\n",
    "        running_loss.append(loss.item())\n",
    "\n",
    "        actual_labels += labels.view(-1).cpu().numpy().tolist()\n",
    "        _, pred = torch.max(outputs, dim=1)\n",
    "\n",
    "        predictions += pred.view(-1).cpu().numpy().tolist()\n",
    "\n",
    "        if mode == \"train\":\n",
    "            # zero the parameter gradients\n",
    "            optimizer.zero_grad()\n",
    "            loss.backward()\n",
    "            optimizer.step()\n",
    "\n",
    "    acc = np.sum(np.array(actual_labels) == np.array(\n",
    "        predictions)) / len(actual_labels)\n",
    "    print(mode, \"Accuracy:\", acc)\n",
    "\n",
    "    loss = np.mean(running_loss)\n",
    "\n",
    "    return loss, acc"
   ]
  },
  {
   "cell_type": "code",
   "execution_count": null,
   "metadata": {},
   "outputs": [],
   "source": [
    "\n",
    "\n",
    "# Perform the actual training and validating process for each epoch\n",
    "for epoch in range(epochs):\n",
    "    loss, acc = run(\"train\", train_loader, model, optimizer)\n",
    "    train_losses.append(loss)\n",
    "    train_accs.append(acc)\n",
    "    with torch.no_grad():\n",
    "        loss, acc = run(\"valid\", val_loader, model, optimizer)\n",
    "        valid_losses.append(loss)\n",
    "        valid_accs.append(acc)\n",
    "\n",
    "print(\"-\"*60)\n",
    "print(\"best validation accuracy is %.4f percent\" % (np.max(valid_accs) * 100) )\n",
    "\n",
    "# save the model for future reference\n",
    "torch.save(model, \"%s.pt\" % str(valid_accs[-1]))"
   ]
  }
 ],
 "metadata": {
  "kernelspec": {
   "display_name": "Python 3.9.4 ('env': venv)",
   "language": "python",
   "name": "python3"
  },
  "language_info": {
   "name": "python",
   "version": "3.9.4"
  },
  "orig_nbformat": 4,
  "vscode": {
   "interpreter": {
    "hash": "57836b4af503e995b4b678377aaa1181a74a14262648efe15edf7d566179e0ab"
   }
  }
 },
 "nbformat": 4,
 "nbformat_minor": 2
}
